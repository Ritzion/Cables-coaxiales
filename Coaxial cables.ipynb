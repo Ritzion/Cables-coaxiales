{
 "metadata": {
  "name": "",
  "signature": "sha256:bbaf1ba083b7747529dd444d253e1aa20d10e8925d4c7842c5a568c4e3970fac"
 },
 "nbformat": 3,
 "nbformat_minor": 0,
 "worksheets": [
  {
   "cells": [
    {
     "cell_type": "code",
     "collapsed": false,
     "input": [
      "%pylab inline"
     ],
     "language": "python",
     "metadata": {},
     "outputs": [
      {
       "output_type": "stream",
       "stream": "stdout",
       "text": [
        "Populating the interactive namespace from numpy and matplotlib\n"
       ]
      }
     ],
     "prompt_number": 21
    },
    {
     "cell_type": "heading",
     "level": 2,
     "metadata": {},
     "source": [
      "Styroflex-50"
     ]
    },
    {
     "cell_type": "code",
     "collapsed": false,
     "input": [
      "a1 = 4.07 #m\n",
      "b1 = 9.52\n",
      "e1 = 1.05*8.8541878176e-12\n",
      "s1 = 1e-16 #poliestireno\n",
      "#el conductor es cobre"
     ],
     "language": "python",
     "metadata": {},
     "outputs": [],
     "prompt_number": 22
    },
    {
     "cell_type": "heading",
     "level": 2,
     "metadata": {},
     "source": [
      "RG-58"
     ]
    },
    {
     "cell_type": "code",
     "collapsed": false,
     "input": [
      "a2 = 0.81\n",
      "b2 = 2.9\n",
      "e2 = 2.3*8.8541878176e-12 #polietileno\n",
      "s2 = 1e-16\n",
      "#el conductor es cobre"
     ],
     "language": "python",
     "metadata": {},
     "outputs": [],
     "prompt_number": 23
    },
    {
     "cell_type": "heading",
     "level": 4,
     "metadata": {},
     "source": [
      "para ambos cables"
     ]
    },
    {
     "cell_type": "code",
     "collapsed": false,
     "input": [
      "z0 = 50 #ohmios; Z0 = R0\n",
      "mu0 = 4*pi*10**-7\n",
      "ER1 = 19.7e6 #ruptura dielectrica\n",
      "ER2 = ((18.9+21.7)/2.)*10**6"
     ],
     "language": "python",
     "metadata": {},
     "outputs": [],
     "prompt_number": 24
    },
    {
     "cell_type": "heading",
     "level": 2,
     "metadata": {},
     "source": [
      "Cobre"
     ]
    },
    {
     "cell_type": "code",
     "collapsed": false,
     "input": [
      "muc = 0.99999*4*pi*10**-7\n",
      "sc = 58.108e6"
     ],
     "language": "python",
     "metadata": {},
     "outputs": [],
     "prompt_number": 25
    },
    {
     "cell_type": "code",
     "collapsed": false,
     "input": [
      "C1 = (2*pi*e1)/(log(b1/a1)) #capacitancia\n",
      "C2 = (2*pi*e2)/(log(b2/a2)) \n",
      "L1 = (mu0/(2*pi))*log(b1/a1) #inductancia\n",
      "L2 = (mu0/(2*pi))*log(b2/a2)\n",
      "G1 = (2*pi*s1)/(log(b1/a1)) #conductancia\n",
      "G2 = (2*pi*s2)/(log(b2/a2))\n",
      "v1 = 1/sqrt(mu0*e1) #velocidad de propagacion\n",
      "v2 = 1/sqrt(mu0*e2)\n",
      "alf1 = s1*0.5*sqrt(mu0/e1) #alpha dielectricos \n",
      "alf2 = s2*0.5*sqrt(mu0/e2)\n",
      "ztem1 = sqrt(mu0/e1) #Ztem\n",
      "ztem2 = sqrt(mu0/e2)"
     ],
     "language": "python",
     "metadata": {},
     "outputs": [],
     "prompt_number": 26
    },
    {
     "cell_type": "code",
     "collapsed": false,
     "input": [
      "a1 = 4.07*10**-3 #m\n",
      "b1 = 9.52*10**-3\n",
      "a2 = 0.5*0.81*10**-3\n",
      "b2 = 0.5*2.9*10**-3"
     ],
     "language": "python",
     "metadata": {},
     "outputs": [],
     "prompt_number": 27
    },
    {
     "cell_type": "code",
     "collapsed": false,
     "input": [
      "r01 = 40.72179749 #R0 calculada\n",
      "r02 = 50.42477732\n",
      "I1 = 2*pi*ER1*a1*log(b1/a1)/(ztem1*log(b1/a1))#intensidad maxima\n",
      "I2 = 2*pi*ER2*a2*log(b2/a2)/(ztem2*log(b2/a2))\n",
      "PT1 = pi*ER1**2*b1**2*log(b1/a1)/(ztem1*(b1/a1)**2)#potencia transmitida\n",
      "PT2 = pi*ER2**2*b2**2*log(b2/a2)/(ztem2*(b2/a2)**2)\n"
     ],
     "language": "python",
     "metadata": {},
     "outputs": [],
     "prompt_number": 28
    },
    {
     "cell_type": "code",
     "collapsed": false,
     "input": [
      "print 'styro: capacit ',C1,'induc ',L1,'conduc ',G1,'vel ',v1,'ztem ',ztem1, 'R0 ',r01"
     ],
     "language": "python",
     "metadata": {},
     "outputs": [
      {
       "output_type": "stream",
       "stream": "stdout",
       "text": [
        "styro: capacit  6.87425723021e-11 induc  1.6995036987e-07 conduc  7.39414137433e-16 vel  292567481.632 ztem  367.65114039 R0  40.72179749\n"
       ]
      }
     ],
     "prompt_number": 29
    },
    {
     "cell_type": "code",
     "collapsed": false,
     "input": [
      "print 'inten',I1,'poten tran',PT1"
     ],
     "language": "python",
     "metadata": {},
     "outputs": [
      {
       "output_type": "stream",
       "stream": "stdout",
       "text": [
        "inten 1370.26506761 poten tran 46679623.4943\n"
       ]
      }
     ],
     "prompt_number": 30
    },
    {
     "cell_type": "code",
     "collapsed": false,
     "input": [
      "print 'rg58: capacit ',C2,'induc ',L2,'conduc ',G2,'vel ',v2,'ztem ',ztem2,'R0 ',r02"
     ],
     "language": "python",
     "metadata": {},
     "outputs": [
      {
       "output_type": "stream",
       "stream": "stdout",
       "text": [
        "rg58: capacit  1.00322698262e-10 induc  2.55086353662e-07 conduc  4.92632021822e-16 vel  197677292.877 ztem  248.408612433 R0  50.42477732\n"
       ]
      }
     ],
     "prompt_number": 31
    },
    {
     "cell_type": "code",
     "collapsed": false,
     "input": [
      "print 'inten',I2,'poten tran',PT2"
     ],
     "language": "python",
     "metadata": {},
     "outputs": [
      {
       "output_type": "stream",
       "stream": "stdout",
       "text": [
        "inten 207.952564514 poten tran 1090291.37409\n"
       ]
      }
     ],
     "prompt_number": 32
    },
    {
     "cell_type": "code",
     "collapsed": false,
     "input": [
      "alf1"
     ],
     "language": "python",
     "metadata": {},
     "outputs": [
      {
       "metadata": {},
       "output_type": "pyout",
       "prompt_number": 33,
       "text": [
        "1.8382557019484451e-14"
       ]
      }
     ],
     "prompt_number": 33
    },
    {
     "cell_type": "code",
     "collapsed": false,
     "input": [
      "alf2"
     ],
     "language": "python",
     "metadata": {},
     "outputs": [
      {
       "metadata": {},
       "output_type": "pyout",
       "prompt_number": 34,
       "text": [
        "1.242043062166258e-14"
       ]
      }
     ],
     "prompt_number": 34
    },
    {
     "cell_type": "heading",
     "level": 4,
     "metadata": {},
     "source": [
      "caracteristicas del cobre"
     ]
    },
    {
     "cell_type": "code",
     "collapsed": false,
     "input": [
      "def Rs(nu):\n",
      "    return sqrt((muc*2*pi*nu)/(2.*sc))\n",
      "\n",
      "def delta(nu):\n",
      "    return 1/(sc*Rs(nu))\n",
      "\n",
      "def alfa(nu):\n",
      "    return 1/(delta(nu))"
     ],
     "language": "python",
     "metadata": {},
     "outputs": [],
     "prompt_number": 35
    },
    {
     "cell_type": "code",
     "collapsed": false,
     "input": [
      "nu = arange(0,1e6,10)"
     ],
     "language": "python",
     "metadata": {},
     "outputs": [],
     "prompt_number": 36
    },
    {
     "cell_type": "code",
     "collapsed": false,
     "input": [
      "plot(nu,alfa(nu))\n",
      "ylabel(r'$\\alpha\\,del\\,conductor\\,[Np/m]$')\n",
      "xlabel(r'$Frecuencia\\,[Hz]$')\n"
     ],
     "language": "python",
     "metadata": {},
     "outputs": [
      {
       "metadata": {},
       "output_type": "pyout",
       "prompt_number": 41,
       "text": [
        "<matplotlib.text.Text at 0x837eba8>"
       ]
      },
      {
       "metadata": {},
       "output_type": "display_data",
       "png": "[encoded data removed]",
       "text": [
        "<matplotlib.figure.Figure at 0x8382b70>"
       ]
      }
     ],
     "prompt_number": 41
    },
    {
     "cell_type": "code",
     "collapsed": false,
     "input": [
      "plot(nu,1/alfa(nu),'r-')\n",
      "ylabel(r'$\\delta\\,del\\,conductor\\,[m/Np]$')\n",
      "xlabel(r'$Frecuencia\\,[Hz]$')\n",
      "ylim(0,0.0015)"
     ],
     "language": "python",
     "metadata": {},
     "outputs": [
      {
       "metadata": {},
       "output_type": "pyout",
       "prompt_number": 46,
       "text": [
        "(0, 0.0015)"
       ]
      },
      {
       "metadata": {},
       "output_type": "display_data",
       "png": "[encoded data removed]",
       "text": [
        "<matplotlib.figure.Figure at 0x88bc048>"
       ]
      }
     ],
     "prompt_number": 46
    },
    {
     "cell_type": "code",
     "collapsed": false,
     "input": [],
     "language": "python",
     "metadata": {},
     "outputs": []
    }
   ],
   "metadata": {}
  }
 ]
}